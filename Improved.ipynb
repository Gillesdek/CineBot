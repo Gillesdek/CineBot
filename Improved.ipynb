{
 "cells": [
  {
   "cell_type": "code",
   "execution_count": 3,
   "metadata": {},
   "outputs": [],
   "source": [
    "import pandas as pd\n",
    "import json"
   ]
  },
  {
   "cell_type": "code",
   "execution_count": 4,
   "metadata": {},
   "outputs": [
    {
     "data": {
      "text/plain": [
       "{'movieMentions': {'203371': 'Final Fantasy: The Spirits Within (2001)',\n",
       "  '84779': 'The Triplets of Belleville (2003)',\n",
       "  '122159': 'Mary and Max (2009)',\n",
       "  '151313': 'A Scanner Darkly  (2006)',\n",
       "  '191602': 'Waking Life (2001)',\n",
       "  '165710': 'The Boss Baby (2017)'},\n",
       " 'respondentQuestions': {'203371': {'suggested': 1, 'seen': 0, 'liked': 1},\n",
       "  '84779': {'suggested': 0, 'seen': 1, 'liked': 1},\n",
       "  '122159': {'suggested': 0, 'seen': 1, 'liked': 1},\n",
       "  '151313': {'suggested': 0, 'seen': 1, 'liked': 1},\n",
       "  '191602': {'suggested': 0, 'seen': 1, 'liked': 1},\n",
       "  '165710': {'suggested': 1, 'seen': 0, 'liked': 1}},\n",
       " 'messages': [{'timeOffset': 0,\n",
       "   'text': \"Hi there, how are you? I'm looking for movie recommendations\",\n",
       "   'senderWorkerId': 0,\n",
       "   'messageId': 1021},\n",
       "  {'timeOffset': 15,\n",
       "   'text': 'I am doing okay. What kind of movies do you like?',\n",
       "   'senderWorkerId': 1,\n",
       "   'messageId': 1022},\n",
       "  {'timeOffset': 66,\n",
       "   'text': 'I like animations like @84779 and @191602',\n",
       "   'senderWorkerId': 0,\n",
       "   'messageId': 1023},\n",
       "  {'timeOffset': 86,\n",
       "   'text': 'I also enjoy @122159',\n",
       "   'senderWorkerId': 0,\n",
       "   'messageId': 1024},\n",
       "  {'timeOffset': 95,\n",
       "   'text': 'Anything artistic',\n",
       "   'senderWorkerId': 0,\n",
       "   'messageId': 1025},\n",
       "  {'timeOffset': 135,\n",
       "   'text': 'You might like @165710 that was a good movie.',\n",
       "   'senderWorkerId': 1,\n",
       "   'messageId': 1026},\n",
       "  {'timeOffset': 151,\n",
       "   'text': \"What's it about?\",\n",
       "   'senderWorkerId': 0,\n",
       "   'messageId': 1027},\n",
       "  {'timeOffset': 207,\n",
       "   'text': 'It has Alec Baldwin it is about a baby that works for a company and gets adopted it is very funny',\n",
       "   'senderWorkerId': 1,\n",
       "   'messageId': 1028},\n",
       "  {'timeOffset': 238,\n",
       "   'text': 'That seems like a nice comedy',\n",
       "   'senderWorkerId': 0,\n",
       "   'messageId': 1029},\n",
       "  {'timeOffset': 272,\n",
       "   'text': 'Do you have any animated recommendations that are a bit more dramatic? Like @151313 for example',\n",
       "   'senderWorkerId': 0,\n",
       "   'messageId': 1030},\n",
       "  {'timeOffset': 327,\n",
       "   'text': 'I like comedies but I prefer films with a little more depth',\n",
       "   'senderWorkerId': 0,\n",
       "   'messageId': 1031},\n",
       "  {'timeOffset': 467,\n",
       "   'text': 'That is a tough one but I will remember something',\n",
       "   'senderWorkerId': 1,\n",
       "   'messageId': 1032},\n",
       "  {'timeOffset': 509,\n",
       "   'text': '@203371 was a good one',\n",
       "   'senderWorkerId': 1,\n",
       "   'messageId': 1033},\n",
       "  {'timeOffset': 564,\n",
       "   'text': \"Ooh that seems cool! Thanks for the input. I'm ready to submit if you are.\",\n",
       "   'senderWorkerId': 0,\n",
       "   'messageId': 1034},\n",
       "  {'timeOffset': 571,\n",
       "   'text': 'It is animated, sci fi, and has action',\n",
       "   'senderWorkerId': 1,\n",
       "   'messageId': 1035},\n",
       "  {'timeOffset': 579,\n",
       "   'text': 'Glad I could help',\n",
       "   'senderWorkerId': 1,\n",
       "   'messageId': 1036},\n",
       "  {'timeOffset': 581, 'text': 'Nice', 'senderWorkerId': 0, 'messageId': 1037},\n",
       "  {'timeOffset': 591,\n",
       "   'text': 'Take care, cheers!',\n",
       "   'senderWorkerId': 0,\n",
       "   'messageId': 1038},\n",
       "  {'timeOffset': 608, 'text': 'bye', 'senderWorkerId': 1, 'messageId': 1039}],\n",
       " 'conversationId': '391',\n",
       " 'respondentWorkerId': 1,\n",
       " 'initiatorWorkerId': 0,\n",
       " 'initiatorQuestions': {'203371': {'suggested': 1, 'seen': 0, 'liked': 1},\n",
       "  '84779': {'suggested': 0, 'seen': 1, 'liked': 1},\n",
       "  '122159': {'suggested': 0, 'seen': 1, 'liked': 1},\n",
       "  '151313': {'suggested': 0, 'seen': 1, 'liked': 1},\n",
       "  '191602': {'suggested': 0, 'seen': 1, 'liked': 1},\n",
       "  '165710': {'suggested': 1, 'seen': 0, 'liked': 1}}}"
      ]
     },
     "execution_count": 4,
     "metadata": {},
     "output_type": "execute_result"
    }
   ],
   "source": [
    "def load_jsonl(file_path):\n",
    "    data = []\n",
    "    with open(file_path, 'r') as file:\n",
    "        for line in file:\n",
    "            # Load each line as JSON\n",
    "            json_data = json.loads(line.strip())\n",
    "            data.append(json_data)\n",
    "    return data\n",
    "\n",
    "# Example usage:\n",
    "file_path = 'train_data.jsonl'\n",
    "train = load_jsonl(file_path)\n",
    "train[0]"
   ]
  },
  {
   "cell_type": "code",
   "execution_count": 5,
   "metadata": {},
   "outputs": [
    {
     "data": {
      "text/plain": [
       "{'203371': 'Final Fantasy: The Spirits Within (2001)',\n",
       " '84779': 'The Triplets of Belleville (2003)',\n",
       " '122159': 'Mary and Max (2009)',\n",
       " '151313': 'A Scanner Darkly  (2006)',\n",
       " '191602': 'Waking Life (2001)',\n",
       " '165710': 'The Boss Baby (2017)'}"
      ]
     },
     "execution_count": 5,
     "metadata": {},
     "output_type": "execute_result"
    }
   ],
   "source": [
    "train[0]['movieMentions']"
   ]
  },
  {
   "cell_type": "code",
   "execution_count": 6,
   "metadata": {},
   "outputs": [
    {
     "data": {
      "text/plain": [
       "[{'timeOffset': 0,\n",
       "  'text': \"Hi there, how are you? I'm looking for movie recommendations\",\n",
       "  'senderWorkerId': 0,\n",
       "  'messageId': 1021},\n",
       " {'timeOffset': 15,\n",
       "  'text': 'I am doing okay. What kind of movies do you like?',\n",
       "  'senderWorkerId': 1,\n",
       "  'messageId': 1022},\n",
       " {'timeOffset': 66,\n",
       "  'text': 'I like animations like @84779 and @191602',\n",
       "  'senderWorkerId': 0,\n",
       "  'messageId': 1023},\n",
       " {'timeOffset': 86,\n",
       "  'text': 'I also enjoy @122159',\n",
       "  'senderWorkerId': 0,\n",
       "  'messageId': 1024},\n",
       " {'timeOffset': 95,\n",
       "  'text': 'Anything artistic',\n",
       "  'senderWorkerId': 0,\n",
       "  'messageId': 1025},\n",
       " {'timeOffset': 135,\n",
       "  'text': 'You might like @165710 that was a good movie.',\n",
       "  'senderWorkerId': 1,\n",
       "  'messageId': 1026},\n",
       " {'timeOffset': 151,\n",
       "  'text': \"What's it about?\",\n",
       "  'senderWorkerId': 0,\n",
       "  'messageId': 1027},\n",
       " {'timeOffset': 207,\n",
       "  'text': 'It has Alec Baldwin it is about a baby that works for a company and gets adopted it is very funny',\n",
       "  'senderWorkerId': 1,\n",
       "  'messageId': 1028},\n",
       " {'timeOffset': 238,\n",
       "  'text': 'That seems like a nice comedy',\n",
       "  'senderWorkerId': 0,\n",
       "  'messageId': 1029},\n",
       " {'timeOffset': 272,\n",
       "  'text': 'Do you have any animated recommendations that are a bit more dramatic? Like @151313 for example',\n",
       "  'senderWorkerId': 0,\n",
       "  'messageId': 1030},\n",
       " {'timeOffset': 327,\n",
       "  'text': 'I like comedies but I prefer films with a little more depth',\n",
       "  'senderWorkerId': 0,\n",
       "  'messageId': 1031},\n",
       " {'timeOffset': 467,\n",
       "  'text': 'That is a tough one but I will remember something',\n",
       "  'senderWorkerId': 1,\n",
       "  'messageId': 1032},\n",
       " {'timeOffset': 509,\n",
       "  'text': '@203371 was a good one',\n",
       "  'senderWorkerId': 1,\n",
       "  'messageId': 1033},\n",
       " {'timeOffset': 564,\n",
       "  'text': \"Ooh that seems cool! Thanks for the input. I'm ready to submit if you are.\",\n",
       "  'senderWorkerId': 0,\n",
       "  'messageId': 1034},\n",
       " {'timeOffset': 571,\n",
       "  'text': 'It is animated, sci fi, and has action',\n",
       "  'senderWorkerId': 1,\n",
       "  'messageId': 1035},\n",
       " {'timeOffset': 579,\n",
       "  'text': 'Glad I could help',\n",
       "  'senderWorkerId': 1,\n",
       "  'messageId': 1036},\n",
       " {'timeOffset': 581, 'text': 'Nice', 'senderWorkerId': 0, 'messageId': 1037},\n",
       " {'timeOffset': 591,\n",
       "  'text': 'Take care, cheers!',\n",
       "  'senderWorkerId': 0,\n",
       "  'messageId': 1038},\n",
       " {'timeOffset': 608, 'text': 'bye', 'senderWorkerId': 1, 'messageId': 1039}]"
      ]
     },
     "execution_count": 6,
     "metadata": {},
     "output_type": "execute_result"
    }
   ],
   "source": [
    "train[0]['messages']"
   ]
  },
  {
   "cell_type": "code",
   "execution_count": 7,
   "metadata": {},
   "outputs": [
    {
     "data": {
      "text/plain": [
       "{'203371': {'suggested': 1, 'seen': 0, 'liked': 1},\n",
       " '84779': {'suggested': 0, 'seen': 1, 'liked': 1},\n",
       " '122159': {'suggested': 0, 'seen': 1, 'liked': 1},\n",
       " '151313': {'suggested': 0, 'seen': 1, 'liked': 1},\n",
       " '191602': {'suggested': 0, 'seen': 1, 'liked': 1},\n",
       " '165710': {'suggested': 1, 'seen': 0, 'liked': 1}}"
      ]
     },
     "execution_count": 7,
     "metadata": {},
     "output_type": "execute_result"
    }
   ],
   "source": [
    "train[0]['respondentQuestions']"
   ]
  },
  {
   "cell_type": "code",
   "execution_count": 8,
   "metadata": {},
   "outputs": [],
   "source": [
    "join_convs = [''] * len(train)\n",
    "i = 0\n",
    "for conversation in train : \n",
    "    messages = conversation['messages']\n",
    "    for message in messages:\n",
    "        join_convs[i] = join_convs[i] + message['text']\n",
    "    i = i + 1"
   ]
  },
  {
   "cell_type": "code",
   "execution_count": 9,
   "metadata": {},
   "outputs": [
    {
     "data": {
      "text/plain": [
       "\"Hi there, how are you? I'm looking for movie recommendationsI am doing okay. What kind of movies do you like?I like animations like @84779 and @191602I also enjoy @122159Anything artisticYou might like @165710 that was a good movie.What's it about?It has Alec Baldwin it is about a baby that works for a company and gets adopted it is very funnyThat seems like a nice comedyDo you have any animated recommendations that are a bit more dramatic? Like @151313 for exampleI like comedies but I prefer films with a little more depthThat is a tough one but I will remember something@203371 was a good oneOoh that seems cool! Thanks for the input. I'm ready to submit if you are.It is animated, sci fi, and has actionGlad I could helpNiceTake care, cheers!bye\""
      ]
     },
     "execution_count": 9,
     "metadata": {},
     "output_type": "execute_result"
    }
   ],
   "source": [
    "join_convs[0]"
   ]
  },
  {
   "cell_type": "code",
   "execution_count": 10,
   "metadata": {},
   "outputs": [
    {
     "data": {
      "text/plain": [
       "\"@163606 It is a nice movie. What say?@90950 Was a marvelous 3D experience personally for meI really liked that movie but haven't seen it in a while. Are you a Michelle Rodriquez fan?No. I am not. I like sci-fi movies. Have you watched @155969My another favorite sci-fi movies are @79320 and @84001No I have not seen that one but have seen all the @204292 movies. Do you like thoseYes, I love @204292 seriesIn fact I am excited about the upcoming @204292What are you favorite movies?I am too I think you will like @147598I have not seen @147598I will watch it soonIt is a good movie if you like Star wars you should like it.Great. I will watch those. Now, let us submit this. Nice talking to you, have a nice day!Thanks it was nice talking to you too bye.\""
      ]
     },
     "execution_count": 10,
     "metadata": {},
     "output_type": "execute_result"
    }
   ],
   "source": [
    "join_convs[2]"
   ]
  },
  {
   "cell_type": "code",
   "execution_count": 12,
   "metadata": {},
   "outputs": [],
   "source": [
    "from sentence_transformers import SentenceTransformer\n",
    "model = SentenceTransformer('paraphrase-MiniLM-L6-v2')\n",
    "embeded_convs = model.encode(join_convs)\n"
   ]
  },
  {
   "cell_type": "code",
   "execution_count": 13,
   "metadata": {},
   "outputs": [
    {
     "data": {
      "text/plain": [
       "array([-1.21522084e-01, -5.47433913e-01,  3.16381693e-01, -8.03961158e-02,\n",
       "       -2.57055730e-01,  1.74392592e-02,  1.91782385e-01,  6.67199045e-02,\n",
       "       -2.38803729e-01, -9.28735361e-03, -2.52297044e-01,  4.91669402e-02,\n",
       "       -1.44719675e-01,  2.07400054e-01,  1.40076518e-01, -2.52579078e-02,\n",
       "        7.13474154e-01,  7.99593478e-02, -2.81787962e-02, -6.97835907e-02,\n",
       "       -3.66271585e-01,  3.91060300e-02,  2.04337955e-01, -1.15595579e-01,\n",
       "       -8.74172524e-02, -3.74739803e-02,  1.07608721e-01, -1.09668724e-01,\n",
       "       -1.15999207e-01,  2.19504267e-01, -5.00966720e-02, -7.29147941e-02,\n",
       "        2.54130065e-01, -2.30947703e-01,  2.94132382e-02,  1.42907888e-01,\n",
       "        6.46108538e-02, -2.46874660e-01, -2.31070220e-01, -2.85590559e-01,\n",
       "       -4.92091119e-01,  3.43950331e-01,  4.16311204e-01, -2.05851406e-01,\n",
       "       -5.16536366e-03, -1.98165119e-01, -1.32565200e-01,  2.31647342e-01,\n",
       "        3.93450081e-01, -6.87045902e-02, -3.42799008e-01, -3.78466964e-01,\n",
       "       -1.93145066e-01, -9.74093564e-05,  4.06284370e-02, -1.18129626e-01,\n",
       "        5.60270473e-02, -9.28065628e-02,  2.32554317e-01, -4.06941712e-01,\n",
       "       -1.09602474e-01, -2.12735683e-01,  2.77147472e-01, -1.42186433e-01,\n",
       "        9.65881795e-02, -7.08220527e-02, -1.02974311e-01, -1.09632522e-01,\n",
       "        1.43815517e-01,  2.83436805e-01, -4.87319589e-01, -4.44988087e-02,\n",
       "       -4.90256697e-02,  2.05653965e-01,  4.32251096e-02, -2.54144251e-01,\n",
       "        3.17900002e-01, -2.55414575e-01,  1.02662005e-01, -2.39997596e-01,\n",
       "        1.64083302e-01, -5.23880363e-01, -2.14158818e-01,  1.31584164e-02,\n",
       "       -3.10882591e-02,  1.68751746e-01, -2.28710592e-01,  1.49532199e-01,\n",
       "       -2.28319108e-01,  1.21753618e-01,  5.07755652e-02,  3.24602306e-01,\n",
       "        3.07651553e-02,  7.28896558e-02,  4.09237385e-01, -1.92980796e-01,\n",
       "        8.11356492e-03, -6.17647529e-01, -7.11841974e-03,  9.12350938e-02,\n",
       "       -7.70829199e-03, -2.26148635e-01,  7.24009693e-01,  3.52961607e-02,\n",
       "       -2.49921679e-01,  1.54356375e-01,  1.32855862e-01, -7.06288218e-02,\n",
       "        4.43835557e-02,  3.54606211e-01, -7.27386922e-02, -1.02384776e-01,\n",
       "        1.47615790e-01, -8.25915486e-02,  2.61432409e-01,  3.71081859e-01,\n",
       "        1.59334093e-02,  1.55812614e-02,  4.01862174e-01, -2.76313424e-02,\n",
       "        3.79110247e-01,  6.40509874e-02,  2.02715844e-01,  1.87610060e-01,\n",
       "       -1.36559978e-01, -2.73909688e-01,  9.61193740e-02, -1.06858999e-01,\n",
       "       -1.00526161e-01,  2.41306767e-01,  2.79547662e-01,  6.29703552e-02,\n",
       "       -1.18330553e-01,  1.58866748e-01, -2.27377750e-02,  2.76674241e-01,\n",
       "       -2.09721953e-01, -5.87565228e-02, -1.28112733e-01, -4.17692959e-01,\n",
       "       -2.63843060e-01,  1.79980278e-01, -1.50153965e-01, -3.24372947e-01,\n",
       "       -5.90138733e-02, -2.71429002e-01, -1.96047634e-01,  3.45568210e-01,\n",
       "       -2.90756166e-01,  7.23817125e-02, -5.45561314e-02,  2.37973630e-01,\n",
       "       -1.83690041e-01, -4.44746614e-02,  4.03966382e-02,  1.73130214e-01,\n",
       "        4.93430138e-01,  1.25405550e-01,  1.40408382e-01,  5.68228215e-03,\n",
       "       -2.03745604e-01, -2.13335842e-01,  3.20878297e-01, -4.29640770e-01,\n",
       "       -3.27953279e-01, -1.12223648e-01,  7.81245455e-02,  1.59447193e-01,\n",
       "       -3.79630089e-01,  3.73372018e-01, -1.95378393e-01, -5.17987274e-02,\n",
       "        2.17280149e-01,  1.16968632e-01,  3.08860660e-01,  2.07713038e-01,\n",
       "       -3.82420979e-02,  1.70316324e-01, -2.29811132e-01,  1.87007204e-01,\n",
       "        4.86421771e-02, -1.98338270e-01,  3.33872512e-02,  1.72676533e-01,\n",
       "        1.13259152e-01,  5.38467206e-02, -3.85221168e-02, -3.43209565e-01,\n",
       "        6.82715774e-02,  2.49562442e-01, -1.54214546e-01, -4.29647267e-01,\n",
       "       -2.04351276e-01,  5.63978590e-02,  1.01553097e-01,  3.30001056e-01,\n",
       "        1.90301359e-01, -9.36361030e-02, -3.50559652e-01,  1.80049568e-01,\n",
       "        1.34106860e-01,  1.01543859e-01,  1.51004136e-01, -3.05540919e-01,\n",
       "       -5.37094399e-02, -1.40672296e-01,  1.45764679e-01, -9.53576062e-03,\n",
       "       -3.39680538e-02, -4.82246876e-02, -1.52922019e-01, -1.64033189e-01,\n",
       "        4.32075933e-03, -2.12025225e-01, -2.08177447e-01, -1.11392122e-02,\n",
       "        1.33111730e-01,  1.19023055e-01, -3.88367102e-02, -4.19434249e-01,\n",
       "       -1.10050052e-01,  4.31494862e-01,  1.91305771e-01, -1.39071956e-01,\n",
       "        9.49422047e-02, -1.21441677e-01, -4.61372763e-01, -6.43163696e-02,\n",
       "       -3.75248373e-01, -1.17057279e-01, -1.23205200e-01, -3.53053093e-01,\n",
       "        3.46944213e-01, -4.84592915e-01, -1.72667950e-02,  1.71921909e-01,\n",
       "       -1.89628750e-01,  1.03065655e-01, -2.71006487e-02, -1.16735332e-01,\n",
       "        1.22604772e-01, -1.60016477e-01, -1.16111875e-01,  1.29519224e-01,\n",
       "        3.03482115e-01,  1.15728453e-01, -1.49609610e-01, -1.92512292e-02,\n",
       "       -2.34654874e-01,  3.11203122e-01,  1.69746906e-01, -1.78212851e-01,\n",
       "        3.78308818e-04,  5.12771383e-02, -6.08930402e-02,  1.74470544e-01,\n",
       "        7.27147162e-02, -1.89107299e-01,  4.93817665e-02, -2.91984200e-01,\n",
       "        3.57467055e-01, -3.16073447e-01, -4.50299740e-01,  8.29907879e-02,\n",
       "        1.55497819e-01, -7.70906284e-02, -1.30381346e-01,  2.59437084e-01,\n",
       "        2.47476816e-01,  9.54157710e-02,  4.31811288e-02, -3.91465798e-02,\n",
       "        1.71955138e-01, -1.19667381e-01, -3.19690287e-01, -2.68183053e-02,\n",
       "        3.06024194e-01, -3.58879656e-01,  3.89208607e-02, -3.65923643e-02,\n",
       "        2.66075671e-01, -4.14031819e-02,  1.90590337e-01,  1.29848540e-01,\n",
       "       -2.39431679e-01,  1.22271672e-01,  3.91590178e-01, -6.89505413e-02,\n",
       "       -4.49954182e-01, -2.64642477e-01, -1.03158608e-01, -3.01421192e-02,\n",
       "        1.33935139e-01, -1.84597984e-01, -2.69807905e-01, -6.02757148e-02,\n",
       "        2.00142175e-01, -2.13689566e-01, -3.33103120e-01,  3.41361076e-01,\n",
       "        5.38905144e-01,  1.73264146e-02, -7.49668339e-03,  7.03205615e-02,\n",
       "       -1.70553029e-01, -3.04320641e-02,  1.32642947e-02,  2.65644312e-01,\n",
       "       -1.32053178e-02,  7.86372721e-02, -1.61611900e-01,  1.36154154e-02,\n",
       "        8.71601850e-02,  2.01521441e-01,  1.53338045e-01,  4.35057223e-01,\n",
       "        1.70164376e-01,  2.51631700e-02, -1.26255387e-02,  4.76360992e-02,\n",
       "       -2.60069910e-02,  9.68385767e-03,  1.58060864e-01, -6.73372000e-02,\n",
       "       -2.94130981e-01,  2.31162518e-01, -3.35325539e-01,  3.07280838e-01,\n",
       "       -4.69866544e-02, -1.73225462e-01,  1.17067195e-01,  1.74260929e-01,\n",
       "        1.34462580e-01,  5.54167219e-02,  1.16369009e-01,  7.30798068e-03,\n",
       "        1.89050555e-01,  6.86507970e-02,  1.28912508e-01,  2.46756673e-02,\n",
       "        3.88691366e-01, -3.33590627e-01,  1.33518666e-01, -1.83777034e-01,\n",
       "       -4.18033123e-01,  9.64625031e-02,  5.13723791e-01,  1.47917584e-01,\n",
       "       -2.25525647e-01,  2.70886421e-01,  1.59500986e-01,  2.97811151e-01,\n",
       "       -2.66976297e-01, -1.07863486e-01, -1.25590563e-01, -4.92938049e-02,\n",
       "        2.69292176e-01,  5.42323198e-03, -1.02869645e-01, -2.03098848e-01,\n",
       "        7.46535808e-02,  3.31801593e-01, -6.74799159e-02, -1.35165393e-01,\n",
       "        4.41751212e-01,  2.86035463e-02,  1.72894597e-01, -5.63049257e-01,\n",
       "       -7.34305009e-02, -1.45104993e-02, -1.86929435e-01,  8.01767129e-03,\n",
       "       -1.17089413e-01,  4.48857129e-01,  5.21309495e-01, -7.19004124e-02,\n",
       "        1.02138296e-01,  3.19421411e-01, -3.35277021e-01,  5.67656934e-01,\n",
       "        3.89583468e-01,  7.95885250e-02, -4.12939429e-01, -1.79176912e-01],\n",
       "      dtype=float32)"
      ]
     },
     "execution_count": 13,
     "metadata": {},
     "output_type": "execute_result"
    }
   ],
   "source": [
    "embeded_convs[0]"
   ]
  },
  {
   "cell_type": "code",
   "execution_count": 14,
   "metadata": {},
   "outputs": [
    {
     "data": {
      "text/plain": [
       "(2389,\n",
       " 'Hello!Hi there.  What kind of movies do you like?I am looking for a movie starring Leonardo Di CaprioI love his moviesI think his a great actorhmm well one of my favorites of course would have to be @175096Yeah that one is a classicI liked that movie a lotanother great one is @201231I also watched that one, but the newer version thoughhavent really watched the 1929 version but Im guessing it must be goodoh oops yes I meant @178950That one I have seen loland liked it very muchAnother good one with him in it is @111099I havent watch it whats it about?it is a true story basically he plays a 19 year old kid who masters forging checks and faking identity to claim he works for the airlinesAnother really good Leonardo Dicaprio movie is @194237Sounds like a really interesting movie. i like the plot. I think im going to give this movie a shotand also watch @194237thanks a lot for the suggestionsbye!You are welcome Bye',\n",
       " {'175096': 'Titanic  (1997)',\n",
       "  '201231': 'The Wolf of Wall Street  (1929)',\n",
       "  '178950': 'The Wolf of Wall Street  (2013)',\n",
       "  '111099': 'Catch Me If You Can (2002)',\n",
       "  '194237': 'Shutter Island  (2010)'})"
      ]
     },
     "execution_count": 14,
     "metadata": {},
     "output_type": "execute_result"
    }
   ],
   "source": [
    "from sklearn.metrics.pairwise import cosine_similarity\n",
    "import numpy as np\n",
    "\n",
    "def retrieve_similar_query(query):\n",
    "    embeded_query = model.encode(query)\n",
    "    MAX = -1\n",
    "    idx = 0\n",
    "    for i in range(len(embeded_convs)):\n",
    "        d = cosine_similarity(embeded_query.reshape(1, 384),embeded_convs[i].reshape(1, 384))\n",
    "        if d > MAX:\n",
    "            MAX = d\n",
    "            idx = i\n",
    "    return idx,join_convs[idx],train[idx]['movieMentions']\n",
    "\n",
    "retrieve_similar_query('Adventure and Comedy with Leonardo Di Caprio')"
   ]
  },
  {
   "cell_type": "code",
   "execution_count": 15,
   "metadata": {},
   "outputs": [
    {
     "name": "stdout",
     "output_type": "stream",
     "text": [
      "Movie Mentions: {'175096': 'Titanic  (1997)', '201231': 'The Wolf of Wall Street  (1929)', '178950': 'The Wolf of Wall Street  (2013)', '111099': 'Catch Me If You Can (2002)', '194237': 'Shutter Island  (2010)'}\n",
      "Movie Mentions: {'175165': 'Kill Bill: Volume 1 (2003)', '142823': 'The Revenant  (2015)', '95066': 'Django Unchained (2012)', '204870': 'Deadpool 2  (2018)', '186732': 'The Crow  (1994)', '78340': 'Deadpool  (2016)'}\n",
      "Movie Mentions: {'147826': 'Gangs of New York (2002)', '178950': 'The Wolf of Wall Street  (2013)', '190837': 'The Great Gatsby  (2013)', '111782': 'Amadeus  (1984)', '205480': 'Titanic (2012)'}\n",
      "Movie Mentions: {'178950': 'The Wolf of Wall Street  (2013)', '101264': 'Inception (2010)', '162658': 'The Aviator  (2004)', '142823': 'The Revenant  (2015)'}\n",
      "Movie Mentions: {'142823': 'The Revenant  (2015)', '175522': 'Valerian and the City of a Thousand Planets (2017)', '82476': \"What's Eating Gilbert Grape (1993)\", '101264': 'Inception (2010)', '173253': 'Stardust  (2007)', '190837': 'The Great Gatsby  (2013)'}\n"
     ]
    }
   ],
   "source": [
    "def retrieve_top_k_similar_queries(query, k=5):\n",
    "    embeded_query = model.encode(query)\n",
    "    similarities = []\n",
    "    for i in range(len(embeded_convs)):\n",
    "        sim = cosine_similarity(embeded_query.reshape(1, 384), embeded_convs[i].reshape(1, 384))\n",
    "        similarities.append((sim, i))\n",
    "    similarities.sort(reverse=True)  # Sort in descending order of similarity\n",
    "    \n",
    "    top_k_similar_queries = []\n",
    "    for sim, idx in similarities[:k]:\n",
    "        top_k_similar_queries.append((idx, join_convs[idx], train[idx]['movieMentions'], sim))\n",
    "    \n",
    "    return top_k_similar_queries\n",
    "\n",
    "# Example usage:\n",
    "similar_queries = retrieve_top_k_similar_queries(\"Adventure and Comedy with Leonardo Di Caprio\", k=5)\n",
    "for idx, conversation, movie_mentions, similarity in similar_queries:\n",
    "    print(f\"Movie Mentions: {movie_mentions}\")"
   ]
  },
  {
   "cell_type": "markdown",
   "metadata": {},
   "source": [
    "Now we want to recomend the movie that has most mentions in all retrieved queries"
   ]
  },
  {
   "cell_type": "code",
   "execution_count": 16,
   "metadata": {},
   "outputs": [
    {
     "name": "stdout",
     "output_type": "stream",
     "text": [
      "Recommended Movie: The Wolf of Wall Street  (2013) mentioned 3 times.\n"
     ]
    }
   ],
   "source": [
    "from collections import Counter\n",
    "\n",
    "# Extract movie mentions from the list of similar queries\n",
    "movie_mentions_list = []\n",
    "for similar_query in similar_queries:\n",
    "    movie_mentions = similar_query[2]\n",
    "    movie_mentions_list.extend(list(movie_mentions.values()))\n",
    "\n",
    "# Count occurrences of each movie\n",
    "movie_mentions_counter = Counter(movie_mentions_list)\n",
    "\n",
    "# Find the movie mentioned the most\n",
    "most_mentioned_movie = movie_mentions_counter.most_common(1)[0]\n",
    "\n",
    "# Print the recommendation\n",
    "print(\"Recommended Movie:\", most_mentioned_movie[0], \"mentioned\", most_mentioned_movie[1], \"times.\")"
   ]
  },
  {
   "cell_type": "code",
   "execution_count": 17,
   "metadata": {},
   "outputs": [
    {
     "name": "stdout",
     "output_type": "stream",
     "text": [
      "Movie Ranking:\n",
      "1. The Wolf of Wall Street  (2013): 3 mentions\n",
      "2. The Revenant  (2015): 3 mentions\n",
      "3. The Great Gatsby  (2013): 2 mentions\n",
      "4. Inception (2010): 2 mentions\n",
      "5. Titanic  (1997): 1 mentions\n",
      "6. The Wolf of Wall Street  (1929): 1 mentions\n",
      "7. Catch Me If You Can (2002): 1 mentions\n",
      "8. Shutter Island  (2010): 1 mentions\n",
      "9. Kill Bill: Volume 1 (2003): 1 mentions\n",
      "10. Django Unchained (2012): 1 mentions\n",
      "11. Deadpool 2  (2018): 1 mentions\n",
      "12. The Crow  (1994): 1 mentions\n",
      "13. Deadpool  (2016): 1 mentions\n",
      "14. Gangs of New York (2002): 1 mentions\n",
      "15. Amadeus  (1984): 1 mentions\n",
      "16. Titanic (2012): 1 mentions\n",
      "17. The Aviator  (2004): 1 mentions\n",
      "18. Valerian and the City of a Thousand Planets (2017): 1 mentions\n",
      "19. What's Eating Gilbert Grape (1993): 1 mentions\n",
      "20. Stardust  (2007): 1 mentions\n"
     ]
    }
   ],
   "source": [
    "from collections import Counter\n",
    "\n",
    "# Extract movie mentions from the list of similar queries\n",
    "movie_mentions_list = []\n",
    "for similar_query in similar_queries:\n",
    "    movie_mentions = similar_query[2]\n",
    "    movie_mentions_list.extend(list(movie_mentions.values()))\n",
    "\n",
    "# Count occurrences of each movie\n",
    "movie_mentions_counter = Counter(movie_mentions_list)\n",
    "\n",
    "# Print the ranking\n",
    "print(\"Movie Ranking:\")\n",
    "for rank, (movie, count) in enumerate(movie_mentions_counter.most_common(), start=1):\n",
    "    print(f\"{rank}. {movie}: {count} mentions\")\n",
    "\n"
   ]
  },
  {
   "cell_type": "code",
   "execution_count": 28,
   "metadata": {},
   "outputs": [],
   "source": [
    "def recommend_me(query, k=1):\n",
    "    similar_queries = retrieve_top_k_similar_queries(query)\n",
    "    movie_mentions_list = []\n",
    "    for similar_query in similar_queries:\n",
    "        movie_mentions = similar_query[2]\n",
    "        movie_mentions_list.extend(list(movie_mentions.values()))\n",
    "\n",
    "    # Count occurrences of each movie\n",
    "    movie_mentions_counter = Counter(movie_mentions_list)\n",
    "\n",
    "    # Find the top k most mentioned movies\n",
    "    top_k_movies = movie_mentions_counter.most_common(k)\n",
    "\n",
    "    # Extract movie titles from the top k movies\n",
    "    recommended_movies = [movie for movie, _ in top_k_movies]\n",
    "\n",
    "    return recommended_movies\n"
   ]
  },
  {
   "cell_type": "code",
   "execution_count": 31,
   "metadata": {},
   "outputs": [
    {
     "data": {
      "text/plain": [
       "['The Wolf of Wall Street  (2013)',\n",
       " 'The Revenant  (2015)',\n",
       " 'The Great Gatsby  (2013)']"
      ]
     },
     "execution_count": 31,
     "metadata": {},
     "output_type": "execute_result"
    }
   ],
   "source": [
    "recommend_me('Adventure and Comedy with Leonardo Di Caprio',k = 3)"
   ]
  }
 ],
 "metadata": {
  "kernelspec": {
   "display_name": "Python 3",
   "language": "python",
   "name": "python3"
  },
  "language_info": {
   "codemirror_mode": {
    "name": "ipython",
    "version": 3
   },
   "file_extension": ".py",
   "mimetype": "text/x-python",
   "name": "python",
   "nbconvert_exporter": "python",
   "pygments_lexer": "ipython3",
   "version": "3.9.6"
  }
 },
 "nbformat": 4,
 "nbformat_minor": 2
}

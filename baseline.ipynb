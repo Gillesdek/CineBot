{
 "cells": [
  {
   "cell_type": "markdown",
   "metadata": {},
   "source": [
    "## Baseline Movie Recomender System"
   ]
  },
  {
   "cell_type": "code",
   "execution_count": 8,
   "metadata": {},
   "outputs": [],
   "source": [
    "import pandas as pd\n",
    "import numpy as np\n",
    "from transformers import BertTokenizer, BertModel\n",
    "import torch\n",
    "\n",
    "from sklearn.feature_extraction.text import TfidfVectorizer\n",
    "from sklearn.metrics.pairwise import cosine_similarity"
   ]
  },
  {
   "cell_type": "code",
   "execution_count": 2,
   "metadata": {},
   "outputs": [],
   "source": [
    "df = pd.read_csv(\"Data/IMDB top 1000.csv\")"
   ]
  },
  {
   "cell_type": "code",
   "execution_count": 3,
   "metadata": {},
   "outputs": [
    {
     "data": {
      "text/html": [
       "<div>\n",
       "<style scoped>\n",
       "    .dataframe tbody tr th:only-of-type {\n",
       "        vertical-align: middle;\n",
       "    }\n",
       "\n",
       "    .dataframe tbody tr th {\n",
       "        vertical-align: top;\n",
       "    }\n",
       "\n",
       "    .dataframe thead th {\n",
       "        text-align: right;\n",
       "    }\n",
       "</style>\n",
       "<table border=\"1\" class=\"dataframe\">\n",
       "  <thead>\n",
       "    <tr style=\"text-align: right;\">\n",
       "      <th></th>\n",
       "      <th>Unnamed: 0</th>\n",
       "      <th>Title</th>\n",
       "      <th>Certificate</th>\n",
       "      <th>Duration</th>\n",
       "      <th>Genre</th>\n",
       "      <th>Rate</th>\n",
       "      <th>Metascore</th>\n",
       "      <th>Description</th>\n",
       "      <th>Cast</th>\n",
       "      <th>Info</th>\n",
       "    </tr>\n",
       "  </thead>\n",
       "  <tbody>\n",
       "    <tr>\n",
       "      <th>0</th>\n",
       "      <td>0</td>\n",
       "      <td>1. The Shawshank Redemption (1994)</td>\n",
       "      <td>R</td>\n",
       "      <td>142 min</td>\n",
       "      <td>Drama</td>\n",
       "      <td>9.3</td>\n",
       "      <td>80.0</td>\n",
       "      <td>Two imprisoned men bond over a number of years...</td>\n",
       "      <td>Director: Frank Darabont | Stars: Tim Robbins,...</td>\n",
       "      <td>Votes: 2,295,987 | Gross: $28.34M</td>\n",
       "    </tr>\n",
       "    <tr>\n",
       "      <th>1</th>\n",
       "      <td>1</td>\n",
       "      <td>2. The Godfather (1972)</td>\n",
       "      <td>R</td>\n",
       "      <td>175 min</td>\n",
       "      <td>Crime, Drama</td>\n",
       "      <td>9.2</td>\n",
       "      <td>100.0</td>\n",
       "      <td>The aging patriarch of an organized crime dyna...</td>\n",
       "      <td>Director: Francis Ford Coppola | Stars: Marlon...</td>\n",
       "      <td>Votes: 1,584,782 | Gross: $134.97M</td>\n",
       "    </tr>\n",
       "    <tr>\n",
       "      <th>2</th>\n",
       "      <td>2</td>\n",
       "      <td>3. The Dark Knight (2008)</td>\n",
       "      <td>PG-13</td>\n",
       "      <td>152 min</td>\n",
       "      <td>Action, Crime, Drama</td>\n",
       "      <td>9.0</td>\n",
       "      <td>84.0</td>\n",
       "      <td>When the menace known as the Joker wreaks havo...</td>\n",
       "      <td>Director: Christopher Nolan | Stars: Christian...</td>\n",
       "      <td>Votes: 2,260,649 | Gross: $534.86M</td>\n",
       "    </tr>\n",
       "    <tr>\n",
       "      <th>3</th>\n",
       "      <td>3</td>\n",
       "      <td>4. The Godfather: Part II (1974)</td>\n",
       "      <td>R</td>\n",
       "      <td>202 min</td>\n",
       "      <td>Crime, Drama</td>\n",
       "      <td>9.0</td>\n",
       "      <td>90.0</td>\n",
       "      <td>The early life and career of Vito Corleone in ...</td>\n",
       "      <td>Director: Francis Ford Coppola | Stars: Al Pac...</td>\n",
       "      <td>Votes: 1,107,253 | Gross: $57.30M</td>\n",
       "    </tr>\n",
       "    <tr>\n",
       "      <th>4</th>\n",
       "      <td>4</td>\n",
       "      <td>5. The Lord of the Rings: The Return of the Ki...</td>\n",
       "      <td>PG-13</td>\n",
       "      <td>201 min</td>\n",
       "      <td>Action, Adventure, Drama</td>\n",
       "      <td>8.9</td>\n",
       "      <td>94.0</td>\n",
       "      <td>Gandalf and Aragorn lead the World of Men agai...</td>\n",
       "      <td>Director: Peter Jackson | Stars: Elijah Wood, ...</td>\n",
       "      <td>Votes: 1,614,369 | Gross: $377.85M</td>\n",
       "    </tr>\n",
       "  </tbody>\n",
       "</table>\n",
       "</div>"
      ],
      "text/plain": [
       "   Unnamed: 0                                              Title Certificate  \\\n",
       "0           0                 1. The Shawshank Redemption (1994)           R   \n",
       "1           1                            2. The Godfather (1972)           R   \n",
       "2           2                          3. The Dark Knight (2008)       PG-13   \n",
       "3           3                   4. The Godfather: Part II (1974)           R   \n",
       "4           4  5. The Lord of the Rings: The Return of the Ki...       PG-13   \n",
       "\n",
       "  Duration                     Genre  Rate  Metascore  \\\n",
       "0  142 min                     Drama   9.3       80.0   \n",
       "1  175 min              Crime, Drama   9.2      100.0   \n",
       "2  152 min      Action, Crime, Drama   9.0       84.0   \n",
       "3  202 min              Crime, Drama   9.0       90.0   \n",
       "4  201 min  Action, Adventure, Drama   8.9       94.0   \n",
       "\n",
       "                                         Description  \\\n",
       "0  Two imprisoned men bond over a number of years...   \n",
       "1  The aging patriarch of an organized crime dyna...   \n",
       "2  When the menace known as the Joker wreaks havo...   \n",
       "3  The early life and career of Vito Corleone in ...   \n",
       "4  Gandalf and Aragorn lead the World of Men agai...   \n",
       "\n",
       "                                                Cast  \\\n",
       "0  Director: Frank Darabont | Stars: Tim Robbins,...   \n",
       "1  Director: Francis Ford Coppola | Stars: Marlon...   \n",
       "2  Director: Christopher Nolan | Stars: Christian...   \n",
       "3  Director: Francis Ford Coppola | Stars: Al Pac...   \n",
       "4  Director: Peter Jackson | Stars: Elijah Wood, ...   \n",
       "\n",
       "                                 Info  \n",
       "0   Votes: 2,295,987 | Gross: $28.34M  \n",
       "1  Votes: 1,584,782 | Gross: $134.97M  \n",
       "2  Votes: 2,260,649 | Gross: $534.86M  \n",
       "3   Votes: 1,107,253 | Gross: $57.30M  \n",
       "4  Votes: 1,614,369 | Gross: $377.85M  "
      ]
     },
     "execution_count": 3,
     "metadata": {},
     "output_type": "execute_result"
    }
   ],
   "source": [
    "df.head()"
   ]
  },
  {
   "cell_type": "code",
   "execution_count": 4,
   "metadata": {},
   "outputs": [
    {
     "data": {
      "text/plain": [
       "(1000, 10)"
      ]
     },
     "execution_count": 4,
     "metadata": {},
     "output_type": "execute_result"
    }
   ],
   "source": [
    "df.shape"
   ]
  },
  {
   "cell_type": "code",
   "execution_count": 6,
   "metadata": {},
   "outputs": [],
   "source": [
    "plots = df['Description'].values.tolist()\n",
    "for i in range(len(plots)):\n",
    "    plots[i] = plots[i] + \" \" +df.loc[i,'Genre']\n"
   ]
  },
  {
   "cell_type": "markdown",
   "metadata": {},
   "source": [
    "## TF IDF recomender"
   ]
  },
  {
   "cell_type": "code",
   "execution_count": 7,
   "metadata": {},
   "outputs": [],
   "source": [
    "\n",
    "# Initialize TF-IDF vectorizer\n",
    "tfidf_vectorizer = TfidfVectorizer()\n",
    "\n",
    "# Fit the vectorizer to the documents and transform them into TF-IDF vectors\n",
    "tfidf = tfidf_vectorizer.fit_transform(plots)"
   ]
  },
  {
   "cell_type": "code",
   "execution_count": null,
   "metadata": {},
   "outputs": [],
   "source": [
    "query = [\"Action movie with horror \"]\n",
    "\n",
    "tfidf_query = tfidf_vectorizer.transform(query)\n",
    "\n",
    "cos_similarities = cosine_similarity(embedding_query,embeddings)\n",
    "idx = np.argmax(cos_similarities)"
   ]
  },
  {
   "cell_type": "code",
   "execution_count": 34,
   "metadata": {},
   "outputs": [],
   "source": [
    "tokenizer = BertTokenizer.from_pretrained('bert-base-uncased')\n",
    "model = BertModel.from_pretrained('bert-base-uncased')"
   ]
  },
  {
   "cell_type": "code",
   "execution_count": 35,
   "metadata": {},
   "outputs": [],
   "source": [
    "tokens = tokenizer(plots, padding=True, truncation=True, return_tensors='pt')"
   ]
  },
  {
   "cell_type": "code",
   "execution_count": 36,
   "metadata": {},
   "outputs": [],
   "source": [
    "with torch.no_grad():\n",
    "    outputs = model(**tokens)\n",
    "\n",
    "embeddings = outputs.pooler_output"
   ]
  },
  {
   "cell_type": "code",
   "execution_count": 39,
   "metadata": {},
   "outputs": [],
   "source": [
    "\n",
    "query = [\"Action movie with horror \"]\n",
    "query_token = tokenizer(query, padding=True, truncation=True, return_tensors='pt')\n",
    "\n",
    "with torch.no_grad():\n",
    "    outputs = model(**query_token)\n",
    "\n",
    "embedding_query = outputs.pooler_output\n",
    "# Calculate cosine similarity between query and all descriptions\n",
    "cos_similarities = cosine_similarity(embedding_query,embeddings)\n",
    "\n",
    "\n",
    "\n",
    "idx = np.argmax(cos_similarities)"
   ]
  },
  {
   "cell_type": "code",
   "execution_count": 40,
   "metadata": {},
   "outputs": [
    {
     "data": {
      "text/plain": [
       "('297. The 400 Blows (1959)',\n",
       " 'A young boy, left without attention, delves into a life of petty crime. Crime, Drama')"
      ]
     },
     "execution_count": 40,
     "metadata": {},
     "output_type": "execute_result"
    }
   ],
   "source": [
    "df.loc[idx]['Title'],plots[idx]"
   ]
  },
  {
   "cell_type": "code",
   "execution_count": null,
   "metadata": {},
   "outputs": [],
   "source": []
  }
 ],
 "metadata": {
  "kernelspec": {
   "display_name": "Python 3",
   "language": "python",
   "name": "python3"
  },
  "language_info": {
   "codemirror_mode": {
    "name": "ipython",
    "version": 3
   },
   "file_extension": ".py",
   "mimetype": "text/x-python",
   "name": "python",
   "nbconvert_exporter": "python",
   "pygments_lexer": "ipython3",
   "version": "3.9.6"
  }
 },
 "nbformat": 4,
 "nbformat_minor": 2
}

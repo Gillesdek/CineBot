{
 "cells": [
  {
   "cell_type": "code",
   "execution_count": 1,
   "metadata": {},
   "outputs": [
    {
     "name": "stderr",
     "output_type": "stream",
     "text": [
      "[nltk_data] Downloading package punkt to\n",
      "[nltk_data]     /Users/gillesdeknache/nltk_data...\n",
      "[nltk_data]   Package punkt is already up-to-date!\n",
      "[nltk_data] Downloading package stopwords to\n",
      "[nltk_data]     /Users/gillesdeknache/nltk_data...\n",
      "[nltk_data]   Package stopwords is already up-to-date!\n"
     ]
    }
   ],
   "source": [
    "from api.services.similarity_recommender_service import SimilarityRecommenderService\n",
    "from api.services.Recomender import recomend_me\n",
    "service = SimilarityRecommenderService()\n",
    "service.init()"
   ]
  },
  {
   "cell_type": "code",
   "execution_count": 2,
   "metadata": {},
   "outputs": [],
   "source": [
    "query = \"Leonardo\"\n",
    "\n",
    "m1 = service.recommend(query)\n",
    "m2 = recomend_me(query, top_k= 3)"
   ]
  },
  {
   "cell_type": "code",
   "execution_count": 3,
   "metadata": {},
   "outputs": [
    {
     "data": {
      "text/plain": [
       "[('The Revenant  (2015)', 4),\n",
       " ('The Wolf of Wall Street  (2013)', 3),\n",
       " ('Inception (2010)', 3)]"
      ]
     },
     "execution_count": 3,
     "metadata": {},
     "output_type": "execute_result"
    }
   ],
   "source": [
    "m1"
   ]
  },
  {
   "cell_type": "code",
   "execution_count": 16,
   "metadata": {},
   "outputs": [
    {
     "data": {
      "text/plain": [
       "[('The Revenant', 4), ('The Wolf of Wall Street', 3), ('Inception', 3)]"
      ]
     },
     "execution_count": 16,
     "metadata": {},
     "output_type": "execute_result"
    }
   ],
   "source": [
    "L = []\n",
    "for m in m1:\n",
    "    a = m[0].rsplit(' ',1)[0].strip()\n",
    "    L.append((a,m[1]))\n",
    "\n",
    "\n",
    "L"
   ]
  },
  {
   "cell_type": "code",
   "execution_count": 17,
   "metadata": {},
   "outputs": [
    {
     "data": {
      "text/plain": [
       "(['Shutter Island', 'Titanic', 'The Departed'],\n",
       " [0.22160209763092573, 0.2113956480183037, 0.208104277409475])"
      ]
     },
     "execution_count": 17,
     "metadata": {},
     "output_type": "execute_result"
    }
   ],
   "source": [
    "m2"
   ]
  },
  {
   "cell_type": "code",
   "execution_count": 26,
   "metadata": {},
   "outputs": [],
   "source": [
    "from collections import defaultdict\n",
    "\n",
    "score = defaultdict(lambda:0)"
   ]
  },
  {
   "cell_type": "code",
   "execution_count": 27,
   "metadata": {},
   "outputs": [
    {
     "data": {
      "text/plain": [
       "10"
      ]
     },
     "execution_count": 27,
     "metadata": {},
     "output_type": "execute_result"
    }
   ],
   "source": [
    "total = 0 \n",
    "for movie in L:\n",
    "    total += movie[1]\n",
    "total"
   ]
  },
  {
   "cell_type": "code",
   "execution_count": 28,
   "metadata": {},
   "outputs": [
    {
     "data": {
      "text/plain": [
       "defaultdict(<function __main__.<lambda>()>,\n",
       "            {'The Revenant': 0.4,\n",
       "             'The Wolf of Wall Street': 0.3,\n",
       "             'Inception': 0.3})"
      ]
     },
     "execution_count": 28,
     "metadata": {},
     "output_type": "execute_result"
    }
   ],
   "source": [
    "for movie in L:\n",
    "    score[movie[0]] = movie[1]/total\n",
    "score"
   ]
  },
  {
   "cell_type": "code",
   "execution_count": 30,
   "metadata": {},
   "outputs": [
    {
     "data": {
      "text/plain": [
       "defaultdict(<function __main__.<lambda>()>,\n",
       "            {'The Revenant': 0.4,\n",
       "             'The Wolf of Wall Street': 0.3,\n",
       "             'Inception': 0.3,\n",
       "             'Shutter Island': 0.5540052440773143,\n",
       "             'Titanic': 0.5284891200457593,\n",
       "             'The Departed': 0.5202606935236875})"
      ]
     },
     "execution_count": 30,
     "metadata": {},
     "output_type": "execute_result"
    }
   ],
   "source": [
    "for movie,score2 in zip(m2[0],m2[1]):\n",
    "    score[movie] += score2 * 1.3\n",
    "\n",
    "score"
   ]
  },
  {
   "cell_type": "code",
   "execution_count": 35,
   "metadata": {},
   "outputs": [
    {
     "data": {
      "text/plain": [
       "[('Shutter Island', 0.5540052440773143),\n",
       " ('Titanic', 0.5284891200457593),\n",
       " ('The Departed', 0.5202606935236875),\n",
       " ('The Revenant', 0.4),\n",
       " ('The Wolf of Wall Street', 0.3),\n",
       " ('Inception', 0.3)]"
      ]
     },
     "execution_count": 35,
     "metadata": {},
     "output_type": "execute_result"
    }
   ],
   "source": [
    "sorted_score = sorted(score.items(), key=lambda x:x[1], reverse=True)\n",
    "sorted_score"
   ]
  },
  {
   "cell_type": "code",
   "execution_count": 38,
   "metadata": {},
   "outputs": [
    {
     "data": {
      "text/plain": [
       "['Shutter Island', 'Titanic', 'The Departed']"
      ]
     },
     "execution_count": 38,
     "metadata": {},
     "output_type": "execute_result"
    }
   ],
   "source": [
    "k = 3 \n",
    "recommended_movies = []\n",
    "for movie in sorted_score[:k]:\n",
    "    recommended_movies.append(movie[0])\n",
    "\n",
    "recommended_movies"
   ]
  },
  {
   "cell_type": "code",
   "execution_count": 53,
   "metadata": {},
   "outputs": [],
   "source": [
    "def mixture_recommend(query):\n",
    "    m1 = service.recommend(query,k=3)\n",
    "    m2 = recomend_me(query, top_k= 3)\n",
    "    L = []\n",
    "    for m in m1:\n",
    "        a = m[0].rsplit(' ',1)[0].strip()\n",
    "        L.append((a,m[1]))\n",
    "    score = defaultdict(lambda:0)\n",
    "    total = 0 \n",
    "    for movie in L:\n",
    "        total += movie[1]\n",
    "    for movie in L:\n",
    "        score[movie[0]] = movie[1]/total\n",
    "    for movie,score2 in zip(m2[0],m2[1]):\n",
    "        score[movie] += score2 * 1.3\n",
    "\n",
    "    sorted_score = sorted(score.items(), key=lambda x:x[1], reverse=True)\n",
    "    k = 3 \n",
    "    recommended_movies = []\n",
    "    for movie in sorted_score[:k]:\n",
    "        recommended_movies.append(movie[0])\n",
    "    return recommended_movies"
   ]
  },
  {
   "cell_type": "code",
   "execution_count": 55,
   "metadata": {},
   "outputs": [
    {
     "data": {
      "text/plain": [
       "['Black Swan', 'V for Vendetta', 'American Made']"
      ]
     },
     "execution_count": 55,
     "metadata": {},
     "output_type": "execute_result"
    }
   ],
   "source": [
    "mixture_recommend(\"Natalie Portman drama\")"
   ]
  }
 ],
 "metadata": {
  "kernelspec": {
   "display_name": "Python 3",
   "language": "python",
   "name": "python3"
  },
  "language_info": {
   "codemirror_mode": {
    "name": "ipython",
    "version": 3
   },
   "file_extension": ".py",
   "mimetype": "text/x-python",
   "name": "python",
   "nbconvert_exporter": "python",
   "pygments_lexer": "ipython3",
   "version": "3.9.6"
  }
 },
 "nbformat": 4,
 "nbformat_minor": 2
}
